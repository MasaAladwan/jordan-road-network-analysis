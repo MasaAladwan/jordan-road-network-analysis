{
 "cells": [
  {
   "cell_type": "markdown",
   "metadata": {},
   "source": [
    "# Social Network Analysis "
   ]
  },
  {
   "cell_type": "markdown",
   "metadata": {},
   "source": [
    "\n",
    "We're analyzing Jordan’s road network as a graph to:\n",
    "\n",
    "1. Find important intersections using centrality metrics.\n",
    "\n",
    "2. These metrics help answer:\n",
    "\n",
    "        - Which intersections are well connected?\n",
    "        - Which are closest to all others?\n",
    "        - Which act as critical bridges in traffic flow?\n"
   ]
  },
  {
   "cell_type": "markdown",
   "metadata": {},
   "source": []
  },
  {
   "cell_type": "code",
   "execution_count": null,
   "metadata": {},
   "outputs": [
    {
     "name": "stdout",
     "output_type": "stream",
     "text": [
      "Requirement already satisfied: osmnx in /Users/masaaladwan/.pyenv/versions/3.11.6/lib/python3.11/site-packages (2.0.3)\n",
      "Requirement already satisfied: networkx in /Users/masaaladwan/.pyenv/versions/3.11.6/lib/python3.11/site-packages (3.4.2)\n",
      "Requirement already satisfied: pandas in /Users/masaaladwan/.pyenv/versions/3.11.6/lib/python3.11/site-packages (2.2.3)\n",
      "Requirement already satisfied: matplotlib in /Users/masaaladwan/.pyenv/versions/3.11.6/lib/python3.11/site-packages (3.10.3)\n",
      "Requirement already satisfied: geopandas in /Users/masaaladwan/.pyenv/versions/3.11.6/lib/python3.11/site-packages (1.0.1)\n",
      "Requirement already satisfied: numpy>=1.22 in /Users/masaaladwan/.pyenv/versions/3.11.6/lib/python3.11/site-packages (from osmnx) (2.2.5)\n",
      "Requirement already satisfied: requests>=2.27 in /Users/masaaladwan/.pyenv/versions/3.11.6/lib/python3.11/site-packages (from osmnx) (2.32.3)\n",
      "Requirement already satisfied: shapely>=2.0 in /Users/masaaladwan/.pyenv/versions/3.11.6/lib/python3.11/site-packages (from osmnx) (2.1.0)\n",
      "Requirement already satisfied: python-dateutil>=2.8.2 in /Users/masaaladwan/.pyenv/versions/3.11.6/lib/python3.11/site-packages (from pandas) (2.9.0.post0)\n",
      "Requirement already satisfied: pytz>=2020.1 in /Users/masaaladwan/.pyenv/versions/3.11.6/lib/python3.11/site-packages (from pandas) (2025.2)\n",
      "Requirement already satisfied: tzdata>=2022.7 in /Users/masaaladwan/.pyenv/versions/3.11.6/lib/python3.11/site-packages (from pandas) (2025.2)\n",
      "Requirement already satisfied: contourpy>=1.0.1 in /Users/masaaladwan/.pyenv/versions/3.11.6/lib/python3.11/site-packages (from matplotlib) (1.3.2)\n",
      "Requirement already satisfied: cycler>=0.10 in /Users/masaaladwan/.pyenv/versions/3.11.6/lib/python3.11/site-packages (from matplotlib) (0.12.1)\n",
      "Requirement already satisfied: fonttools>=4.22.0 in /Users/masaaladwan/.pyenv/versions/3.11.6/lib/python3.11/site-packages (from matplotlib) (4.58.0)\n",
      "Requirement already satisfied: kiwisolver>=1.3.1 in /Users/masaaladwan/.pyenv/versions/3.11.6/lib/python3.11/site-packages (from matplotlib) (1.4.8)\n",
      "Requirement already satisfied: packaging>=20.0 in /Users/masaaladwan/.pyenv/versions/3.11.6/lib/python3.11/site-packages (from matplotlib) (24.1)\n",
      "Requirement already satisfied: pillow>=8 in /Users/masaaladwan/.pyenv/versions/3.11.6/lib/python3.11/site-packages (from matplotlib) (11.2.1)\n",
      "Requirement already satisfied: pyparsing>=2.3.1 in /Users/masaaladwan/.pyenv/versions/3.11.6/lib/python3.11/site-packages (from matplotlib) (3.2.3)\n",
      "Requirement already satisfied: pyogrio>=0.7.2 in /Users/masaaladwan/.pyenv/versions/3.11.6/lib/python3.11/site-packages (from geopandas) (0.11.0)\n",
      "Requirement already satisfied: pyproj>=3.3.0 in /Users/masaaladwan/.pyenv/versions/3.11.6/lib/python3.11/site-packages (from geopandas) (3.7.1)\n",
      "Requirement already satisfied: certifi in /Users/masaaladwan/.pyenv/versions/3.11.6/lib/python3.11/site-packages (from pyogrio>=0.7.2->geopandas) (2025.4.26)\n",
      "Requirement already satisfied: six>=1.5 in /Users/masaaladwan/.pyenv/versions/3.11.6/lib/python3.11/site-packages (from python-dateutil>=2.8.2->pandas) (1.16.0)\n",
      "Requirement already satisfied: charset-normalizer<4,>=2 in /Users/masaaladwan/.pyenv/versions/3.11.6/lib/python3.11/site-packages (from requests>=2.27->osmnx) (3.4.2)\n",
      "Requirement already satisfied: idna<4,>=2.5 in /Users/masaaladwan/.pyenv/versions/3.11.6/lib/python3.11/site-packages (from requests>=2.27->osmnx) (3.10)\n",
      "Requirement already satisfied: urllib3<3,>=1.21.1 in /Users/masaaladwan/.pyenv/versions/3.11.6/lib/python3.11/site-packages (from requests>=2.27->osmnx) (2.4.0)\n",
      "\n",
      "\u001b[1m[\u001b[0m\u001b[34;49mnotice\u001b[0m\u001b[1;39;49m]\u001b[0m\u001b[39;49m A new release of pip is available: \u001b[0m\u001b[31;49m23.2.1\u001b[0m\u001b[39;49m -> \u001b[0m\u001b[32;49m25.1.1\u001b[0m\n",
      "\u001b[1m[\u001b[0m\u001b[34;49mnotice\u001b[0m\u001b[1;39;49m]\u001b[0m\u001b[39;49m To update, run: \u001b[0m\u001b[32;49mpip install --upgrade pip\u001b[0m\n",
      "Note: you may need to restart the kernel to use updated packages.\n"
     ]
    }
   ],
   "source": [
    " # pip install osmnx networkx pandas matplotlib geopandas"
   ]
  },
  {
   "cell_type": "code",
   "execution_count": 1,
   "metadata": {},
   "outputs": [],
   "source": [
    "# Importing necessary libraries \n",
    "\n",
    "import osmnx as ox # Access and process real-world street networks from OpenStreetMap\n",
    "import networkx as nx # flexible, extensible, and powerful network analysis tool\n",
    "import pandas as pd # data analysis and manipulation tool\n",
    "import matplotlib.pyplot as plt # visualizations"
   ]
  },
  {
   "cell_type": "code",
   "execution_count": 2,
   "metadata": {},
   "outputs": [
    {
     "name": "stderr",
     "output_type": "stream",
     "text": [
      "/Users/masaaladwan/.pyenv/versions/3.11.6/lib/python3.11/site-packages/osmnx/_overpass.py:267: UserWarning: This area is 48 times your configured Overpass max query area size. It will automatically be divided up into multiple sub-queries accordingly. This may take a long time.\n",
      "  multi_poly_proj = utils_geo._consolidate_subdivide_geometry(poly_proj)\n"
     ]
    },
    {
     "ename": "KeyboardInterrupt",
     "evalue": "",
     "output_type": "error",
     "traceback": [
      "\u001b[0;31m---------------------------------------------------------------------------\u001b[0m",
      "\u001b[0;31mTypeError\u001b[0m                                 Traceback (most recent call last)",
      "File \u001b[0;32m~/.pyenv/versions/3.11.6/lib/python3.11/site-packages/networkx/classes/digraph.py:552\u001b[0m, in \u001b[0;36mDiGraph.add_nodes_from\u001b[0;34m(self, nodes_for_adding, **attr)\u001b[0m\n\u001b[1;32m    551\u001b[0m \u001b[39mtry\u001b[39;00m:\n\u001b[0;32m--> 552\u001b[0m     newnode \u001b[39m=\u001b[39m n \u001b[39mnot\u001b[39;49;00m \u001b[39min\u001b[39;49;00m \u001b[39mself\u001b[39;49m\u001b[39m.\u001b[39;49m_node\n\u001b[1;32m    553\u001b[0m     newdict \u001b[39m=\u001b[39m attr\n",
      "\u001b[0;31mTypeError\u001b[0m: unhashable type: 'dict'",
      "\nDuring handling of the above exception, another exception occurred:\n",
      "\u001b[0;31mKeyboardInterrupt\u001b[0m                         Traceback (most recent call last)",
      "\u001b[1;32m/Users/masaaladwan/sna/code.ipynb Cell 6\u001b[0m line \u001b[0;36m3\n\u001b[1;32m      <a href='vscode-notebook-cell:/Users/masaaladwan/sna/code.ipynb#W5sZmlsZQ%3D%3D?line=0'>1</a>\u001b[0m \u001b[39m# Step 1: Load the Jordan road network\u001b[39;00m\n\u001b[1;32m      <a href='vscode-notebook-cell:/Users/masaaladwan/sna/code.ipynb#W5sZmlsZQ%3D%3D?line=1'>2</a>\u001b[0m place_name \u001b[39m=\u001b[39m \u001b[39m\"\u001b[39m\u001b[39mJordan\u001b[39m\u001b[39m\"\u001b[39m\n\u001b[0;32m----> <a href='vscode-notebook-cell:/Users/masaaladwan/sna/code.ipynb#W5sZmlsZQ%3D%3D?line=2'>3</a>\u001b[0m G \u001b[39m=\u001b[39m ox\u001b[39m.\u001b[39;49mgraph_from_place(place_name, network_type\u001b[39m=\u001b[39;49m\u001b[39m'\u001b[39;49m\u001b[39mall\u001b[39;49m\u001b[39m'\u001b[39;49m, simplify\u001b[39m=\u001b[39;49m\u001b[39mTrue\u001b[39;49;00m)\n\u001b[1;32m      <a href='vscode-notebook-cell:/Users/masaaladwan/sna/code.ipynb#W5sZmlsZQ%3D%3D?line=6'>7</a>\u001b[0m \u001b[39m#ox.graph_from_place(...) to downloads the road network \u001b[39;00m\n\u001b[1;32m      <a href='vscode-notebook-cell:/Users/masaaladwan/sna/code.ipynb#W5sZmlsZQ%3D%3D?line=7'>8</a>\u001b[0m \u001b[39m#Nodes = intersections, Edges = road segments.\u001b[39;00m\n\u001b[1;32m     <a href='vscode-notebook-cell:/Users/masaaladwan/sna/code.ipynb#W5sZmlsZQ%3D%3D?line=9'>10</a>\u001b[0m \u001b[39m\"\"\" Parameters:\u001b[39;00m\n\u001b[1;32m     <a href='vscode-notebook-cell:/Users/masaaladwan/sna/code.ipynb#W5sZmlsZQ%3D%3D?line=10'>11</a>\u001b[0m \u001b[39m    network_type='all' : Includes all types of paths: roads, footpaths, service lanes.... \u001b[39;00m\n\u001b[1;32m     <a href='vscode-notebook-cell:/Users/masaaladwan/sna/code.ipynb#W5sZmlsZQ%3D%3D?line=11'>12</a>\u001b[0m \u001b[39m    simplify=True: Merges intermediate nodes (like bend points) so each road segment is a clean edge between intersections.\u001b[39;00m\n\u001b[1;32m     <a href='vscode-notebook-cell:/Users/masaaladwan/sna/code.ipynb#W5sZmlsZQ%3D%3D?line=12'>13</a>\u001b[0m \u001b[39mMakes the graph more usable for centrality and routing analysis.\"\"\"\u001b[39;00m\n",
      "File \u001b[0;32m~/.pyenv/versions/3.11.6/lib/python3.11/site-packages/osmnx/graph.py:395\u001b[0m, in \u001b[0;36mgraph_from_place\u001b[0;34m(query, network_type, simplify, retain_all, truncate_by_edge, which_result, custom_filter)\u001b[0m\n\u001b[1;32m    392\u001b[0m utils\u001b[39m.\u001b[39mlog(msg, level\u001b[39m=\u001b[39mlg\u001b[39m.\u001b[39mINFO)\n\u001b[1;32m    394\u001b[0m \u001b[39m# create graph using this polygon(s) geometry\u001b[39;00m\n\u001b[0;32m--> 395\u001b[0m G \u001b[39m=\u001b[39m graph_from_polygon(\n\u001b[1;32m    396\u001b[0m     polygon,\n\u001b[1;32m    397\u001b[0m     network_type\u001b[39m=\u001b[39;49mnetwork_type,\n\u001b[1;32m    398\u001b[0m     simplify\u001b[39m=\u001b[39;49msimplify,\n\u001b[1;32m    399\u001b[0m     retain_all\u001b[39m=\u001b[39;49mretain_all,\n\u001b[1;32m    400\u001b[0m     truncate_by_edge\u001b[39m=\u001b[39;49mtruncate_by_edge,\n\u001b[1;32m    401\u001b[0m     custom_filter\u001b[39m=\u001b[39;49mcustom_filter,\n\u001b[1;32m    402\u001b[0m )\n\u001b[1;32m    404\u001b[0m msg \u001b[39m=\u001b[39m \u001b[39mf\u001b[39m\u001b[39m\"\u001b[39m\u001b[39mgraph_from_place returned graph with \u001b[39m\u001b[39m{\u001b[39;00m\u001b[39mlen\u001b[39m(G)\u001b[39m:\u001b[39;00m\u001b[39m,\u001b[39m\u001b[39m}\u001b[39;00m\u001b[39m nodes and \u001b[39m\u001b[39m{\u001b[39;00m\u001b[39mlen\u001b[39m(G\u001b[39m.\u001b[39medges)\u001b[39m:\u001b[39;00m\u001b[39m,\u001b[39m\u001b[39m}\u001b[39;00m\u001b[39m edges\u001b[39m\u001b[39m\"\u001b[39m\n\u001b[1;32m    405\u001b[0m utils\u001b[39m.\u001b[39mlog(msg, level\u001b[39m=\u001b[39mlg\u001b[39m.\u001b[39mINFO)\n",
      "File \u001b[0;32m~/.pyenv/versions/3.11.6/lib/python3.11/site-packages/osmnx/graph.py:495\u001b[0m, in \u001b[0;36mgraph_from_polygon\u001b[0;34m(polygon, network_type, simplify, retain_all, truncate_by_edge, custom_filter)\u001b[0m\n\u001b[1;32m    493\u001b[0m \u001b[39m# create buffered graph from the downloaded data\u001b[39;00m\n\u001b[1;32m    494\u001b[0m bidirectional \u001b[39m=\u001b[39m network_type \u001b[39min\u001b[39;00m settings\u001b[39m.\u001b[39mbidirectional_network_types\n\u001b[0;32m--> 495\u001b[0m G_buff \u001b[39m=\u001b[39m _create_graph(response_jsons, bidirectional)\n\u001b[1;32m    497\u001b[0m \u001b[39m# truncate buffered graph to the buffered polygon and retain_all for\u001b[39;00m\n\u001b[1;32m    498\u001b[0m \u001b[39m# now. needed because overpass returns entire ways that also include\u001b[39;00m\n\u001b[1;32m    499\u001b[0m \u001b[39m# nodes outside the poly if the way (that is, a way with a single OSM\u001b[39;00m\n\u001b[1;32m    500\u001b[0m \u001b[39m# ID) has a node inside the poly at some point.\u001b[39;00m\n\u001b[1;32m    501\u001b[0m G_buff \u001b[39m=\u001b[39m truncate\u001b[39m.\u001b[39mtruncate_graph_polygon(G_buff, poly_buff, truncate_by_edge\u001b[39m=\u001b[39mtruncate_by_edge)\n",
      "File \u001b[0;32m~/.pyenv/versions/3.11.6/lib/python3.11/site-packages/osmnx/graph.py:654\u001b[0m, in \u001b[0;36m_create_graph\u001b[0;34m(response_jsons, bidirectional)\u001b[0m\n\u001b[1;32m    652\u001b[0m msg \u001b[39m=\u001b[39m \u001b[39mf\u001b[39m\u001b[39m\"\u001b[39m\u001b[39mCreating graph from \u001b[39m\u001b[39m{\u001b[39;00m\u001b[39mlen\u001b[39m(nodes)\u001b[39m:\u001b[39;00m\u001b[39m,\u001b[39m\u001b[39m}\u001b[39;00m\u001b[39m OSM nodes and \u001b[39m\u001b[39m{\u001b[39;00m\u001b[39mlen\u001b[39m(paths)\u001b[39m:\u001b[39;00m\u001b[39m,\u001b[39m\u001b[39m}\u001b[39;00m\u001b[39m OSM ways...\u001b[39m\u001b[39m\"\u001b[39m\n\u001b[1;32m    653\u001b[0m utils\u001b[39m.\u001b[39mlog(msg, level\u001b[39m=\u001b[39mlg\u001b[39m.\u001b[39mINFO)\n\u001b[0;32m--> 654\u001b[0m G\u001b[39m.\u001b[39;49madd_nodes_from(nodes\u001b[39m.\u001b[39;49mitems())\n\u001b[1;32m    655\u001b[0m _add_paths(G, paths\u001b[39m.\u001b[39mvalues(), bidirectional)\n\u001b[1;32m    657\u001b[0m msg \u001b[39m=\u001b[39m \u001b[39mf\u001b[39m\u001b[39m\"\u001b[39m\u001b[39mCreated graph with \u001b[39m\u001b[39m{\u001b[39;00m\u001b[39mlen\u001b[39m(G)\u001b[39m:\u001b[39;00m\u001b[39m,\u001b[39m\u001b[39m}\u001b[39;00m\u001b[39m nodes and \u001b[39m\u001b[39m{\u001b[39;00m\u001b[39mlen\u001b[39m(G\u001b[39m.\u001b[39medges)\u001b[39m:\u001b[39;00m\u001b[39m,\u001b[39m\u001b[39m}\u001b[39;00m\u001b[39m edges\u001b[39m\u001b[39m\"\u001b[39m\n",
      "File \u001b[0;32m~/.pyenv/versions/3.11.6/lib/python3.11/site-packages/networkx/classes/digraph.py:557\u001b[0m, in \u001b[0;36mDiGraph.add_nodes_from\u001b[0;34m(self, nodes_for_adding, **attr)\u001b[0m\n\u001b[1;32m    555\u001b[0m     n, ndict \u001b[39m=\u001b[39m n\n\u001b[1;32m    556\u001b[0m     newnode \u001b[39m=\u001b[39m n \u001b[39mnot\u001b[39;00m \u001b[39min\u001b[39;00m \u001b[39mself\u001b[39m\u001b[39m.\u001b[39m_node\n\u001b[0;32m--> 557\u001b[0m     newdict \u001b[39m=\u001b[39m attr\u001b[39m.\u001b[39mcopy()\n\u001b[1;32m    558\u001b[0m     newdict\u001b[39m.\u001b[39mupdate(ndict)\n\u001b[1;32m    559\u001b[0m \u001b[39mif\u001b[39;00m newnode:\n",
      "\u001b[0;31mKeyboardInterrupt\u001b[0m: "
     ]
    }
   ],
   "source": [
    "# Step 1: Load the Jordan road network\n",
    "place_name = \"Jordan\"\n",
    "G = ox.graph_from_place(place_name, network_type='all', simplify=True)\n",
    "\n",
    "\n",
    "\n",
    "#ox.graph_from_place(...) to downloads the road network \n",
    "#Nodes = intersections, Edges = road segments.\n",
    "\n",
    "\"\"\" Parameters:\n",
    "    network_type='all' : Includes all types of paths: roads, footpaths, service lanes.... \n",
    "    simplify=True: Merges intermediate nodes (like bend points) so each road segment is a clean edge between intersections.\n",
    "Makes the graph more usable for centrality and routing analysis.\"\"\"\n",
    "\n"
   ]
  },
  {
   "cell_type": "code",
   "execution_count": 13,
   "metadata": {},
   "outputs": [
    {
     "data": {
      "text/plain": [
       "641595"
      ]
     },
     "execution_count": 13,
     "metadata": {},
     "output_type": "execute_result"
    }
   ],
   "source": [
    "G.size()"
   ]
  },
  {
   "cell_type": "markdown",
   "metadata": {},
   "source": [
    "Then that means your road network has over 640,000 nodes (intersections)  which is very large , lets focus on amman \n",
    "I've been running the code for more than 12 hours, so for this project i will simplfy it more \n"
   ]
  },
  {
   "cell_type": "code",
   "execution_count": 3,
   "metadata": {},
   "outputs": [],
   "source": [
    "G_amman = ox.graph_from_place(\"Amman, Jordan\", network_type='drive', simplify=True)"
   ]
  },
  {
   "cell_type": "code",
   "execution_count": 4,
   "metadata": {},
   "outputs": [
    {
     "data": {
      "text/plain": [
       "156456"
      ]
     },
     "execution_count": 4,
     "metadata": {},
     "output_type": "execute_result"
    }
   ],
   "source": [
    "G_amman.size()"
   ]
  },
  {
   "cell_type": "markdown",
   "metadata": {},
   "source": [
    "Thats so much better, still it will be slow for betweenes centrality "
   ]
  },
  {
   "cell_type": "code",
   "execution_count": 10,
   "metadata": {},
   "outputs": [],
   "source": [
    "# Step 2: Convert to undirected \n",
    "G_undirected = G.to_undirected()\n",
    "\n",
    "\n",
    "# why u may ask ? becaues the method i want to use is much faster when its used to process undirected graphs\n",
    "# Assuming symmetrical movement is often OK for large-scale analysis\n",
    "# If you care about direction (like for routing or smth), keep the original directed graph G "
   ]
  },
  {
   "cell_type": "code",
   "execution_count": 5,
   "metadata": {},
   "outputs": [
    {
     "data": {
      "text/plain": [
       "89336"
      ]
     },
     "execution_count": 5,
     "metadata": {},
     "output_type": "execute_result"
    }
   ],
   "source": [
    "G_undirected_amman = G_amman.to_undirected()\n",
    "G_undirected_amman.size()"
   ]
  },
  {
   "cell_type": "code",
   "execution_count": 11,
   "metadata": {},
   "outputs": [],
   "source": [
    "# Step 3: Compute centralities\n",
    "degree_centrality = nx.degree_centrality(G_undirected)\n",
    "\n",
    "# Degree centrality counts direct connections only it says how many roads meet at a junction.\n",
    "# But it says nothing about: How central the location is to the entire network ?  Whether it lies on important travel routes between cities or not \n",
    "# basically it only cares about the number of roads that connect to a node, not how important that node is to the network as a whole., NO GLOBAL IMPORTANCE\n",
    "# so we use other centrality measures to get a more complete picture of a node's importance in the network.\n"
   ]
  },
  {
   "cell_type": "code",
   "execution_count": 6,
   "metadata": {},
   "outputs": [],
   "source": [
    "degree_centrality_amman = nx.degree_centrality(G_undirected_amman)\n"
   ]
  },
  {
   "cell_type": "code",
   "execution_count": 12,
   "metadata": {},
   "outputs": [
    {
     "ename": "KeyboardInterrupt",
     "evalue": "",
     "output_type": "error",
     "traceback": [
      "\u001b[0;31m---------------------------------------------------------------------------\u001b[0m",
      "\u001b[0;31mKeyboardInterrupt\u001b[0m                         Traceback (most recent call last)",
      "\u001b[1;32m/Users/masaaladwan/sna/code.ipynb Cell 9\u001b[0m line \u001b[0;36m1\n\u001b[0;32m----> <a href='vscode-notebook-cell:/Users/masaaladwan/sna/code.ipynb#X21sZmlsZQ%3D%3D?line=0'>1</a>\u001b[0m closeness_centrality \u001b[39m=\u001b[39m nx\u001b[39m.\u001b[39;49mcloseness_centrality(G_undirected, distance\u001b[39m=\u001b[39;49m\u001b[39m'\u001b[39;49m\u001b[39mlength\u001b[39;49m\u001b[39m'\u001b[39;49m)\n",
      "File \u001b[0;32m<class 'networkx.utils.decorators.argmap'> compilation 30:3\u001b[0m, in \u001b[0;36margmap_closeness_centrality_27\u001b[0;34m(G, u, distance, wf_improved, backend, **backend_kwargs)\u001b[0m\n\u001b[1;32m      1\u001b[0m \u001b[39mimport\u001b[39;00m \u001b[39mbz2\u001b[39;00m\n\u001b[1;32m      2\u001b[0m \u001b[39mimport\u001b[39;00m \u001b[39mcollections\u001b[39;00m\n\u001b[0;32m----> 3\u001b[0m \u001b[39mimport\u001b[39;00m \u001b[39mgzip\u001b[39;00m\n\u001b[1;32m      4\u001b[0m \u001b[39mimport\u001b[39;00m \u001b[39minspect\u001b[39;00m\n\u001b[1;32m      5\u001b[0m \u001b[39mimport\u001b[39;00m \u001b[39mitertools\u001b[39;00m\n",
      "File \u001b[0;32m~/.pyenv/versions/3.11.6/lib/python3.11/site-packages/networkx/utils/backends.py:967\u001b[0m, in \u001b[0;36m_dispatchable.__call__\u001b[0;34m(self, backend, *args, **kwargs)\u001b[0m\n\u001b[1;32m    965\u001b[0m     \u001b[39mif\u001b[39;00m backend \u001b[39mis\u001b[39;00m \u001b[39mnot\u001b[39;00m \u001b[39mNone\u001b[39;00m \u001b[39mand\u001b[39;00m backend \u001b[39m!=\u001b[39m \u001b[39m\"\u001b[39m\u001b[39mnetworkx\u001b[39m\u001b[39m\"\u001b[39m:\n\u001b[1;32m    966\u001b[0m         \u001b[39mraise\u001b[39;00m \u001b[39mImportError\u001b[39;00m(\u001b[39mf\u001b[39m\u001b[39m\"\u001b[39m\u001b[39m'\u001b[39m\u001b[39m{\u001b[39;00mbackend\u001b[39m}\u001b[39;00m\u001b[39m'\u001b[39m\u001b[39m backend is not installed\u001b[39m\u001b[39m\"\u001b[39m)\n\u001b[0;32m--> 967\u001b[0m     \u001b[39mreturn\u001b[39;00m \u001b[39mself\u001b[39;49m\u001b[39m.\u001b[39;49morig_func(\u001b[39m*\u001b[39;49margs, \u001b[39m*\u001b[39;49m\u001b[39m*\u001b[39;49mkwargs)\n\u001b[1;32m    969\u001b[0m \u001b[39m# Use `backend_name` in this function instead of `backend`.\u001b[39;00m\n\u001b[1;32m    970\u001b[0m \u001b[39m# This is purely for aesthetics and to make it easier to search for this\u001b[39;00m\n\u001b[1;32m    971\u001b[0m \u001b[39m# variable since \"backend\" is used in many comments and log/error messages.\u001b[39;00m\n\u001b[1;32m    972\u001b[0m backend_name \u001b[39m=\u001b[39m backend\n",
      "File \u001b[0;32m~/.pyenv/versions/3.11.6/lib/python3.11/site-packages/networkx/algorithms/centrality/closeness.py:124\u001b[0m, in \u001b[0;36mcloseness_centrality\u001b[0;34m(G, u, distance, wf_improved)\u001b[0m\n\u001b[1;32m    122\u001b[0m closeness_dict \u001b[39m=\u001b[39m {}\n\u001b[1;32m    123\u001b[0m \u001b[39mfor\u001b[39;00m n \u001b[39min\u001b[39;00m nodes:\n\u001b[0;32m--> 124\u001b[0m     sp \u001b[39m=\u001b[39m path_length(G, n)\n\u001b[1;32m    125\u001b[0m     totsp \u001b[39m=\u001b[39m \u001b[39msum\u001b[39m(sp\u001b[39m.\u001b[39mvalues())\n\u001b[1;32m    126\u001b[0m     len_G \u001b[39m=\u001b[39m \u001b[39mlen\u001b[39m(G)\n",
      "File \u001b[0;32m<class 'networkx.utils.decorators.argmap'> compilation 34:3\u001b[0m, in \u001b[0;36margmap_single_source_dijkstra_path_length_31\u001b[0;34m(G, source, cutoff, weight, backend, **backend_kwargs)\u001b[0m\n\u001b[1;32m      1\u001b[0m \u001b[39mimport\u001b[39;00m \u001b[39mbz2\u001b[39;00m\n\u001b[1;32m      2\u001b[0m \u001b[39mimport\u001b[39;00m \u001b[39mcollections\u001b[39;00m\n\u001b[0;32m----> 3\u001b[0m \u001b[39mimport\u001b[39;00m \u001b[39mgzip\u001b[39;00m\n\u001b[1;32m      4\u001b[0m \u001b[39mimport\u001b[39;00m \u001b[39minspect\u001b[39;00m\n\u001b[1;32m      5\u001b[0m \u001b[39mimport\u001b[39;00m \u001b[39mitertools\u001b[39;00m\n",
      "File \u001b[0;32m~/.pyenv/versions/3.11.6/lib/python3.11/site-packages/networkx/utils/backends.py:967\u001b[0m, in \u001b[0;36m_dispatchable.__call__\u001b[0;34m(self, backend, *args, **kwargs)\u001b[0m\n\u001b[1;32m    965\u001b[0m     \u001b[39mif\u001b[39;00m backend \u001b[39mis\u001b[39;00m \u001b[39mnot\u001b[39;00m \u001b[39mNone\u001b[39;00m \u001b[39mand\u001b[39;00m backend \u001b[39m!=\u001b[39m \u001b[39m\"\u001b[39m\u001b[39mnetworkx\u001b[39m\u001b[39m\"\u001b[39m:\n\u001b[1;32m    966\u001b[0m         \u001b[39mraise\u001b[39;00m \u001b[39mImportError\u001b[39;00m(\u001b[39mf\u001b[39m\u001b[39m\"\u001b[39m\u001b[39m'\u001b[39m\u001b[39m{\u001b[39;00mbackend\u001b[39m}\u001b[39;00m\u001b[39m'\u001b[39m\u001b[39m backend is not installed\u001b[39m\u001b[39m\"\u001b[39m)\n\u001b[0;32m--> 967\u001b[0m     \u001b[39mreturn\u001b[39;00m \u001b[39mself\u001b[39;49m\u001b[39m.\u001b[39;49morig_func(\u001b[39m*\u001b[39;49margs, \u001b[39m*\u001b[39;49m\u001b[39m*\u001b[39;49mkwargs)\n\u001b[1;32m    969\u001b[0m \u001b[39m# Use `backend_name` in this function instead of `backend`.\u001b[39;00m\n\u001b[1;32m    970\u001b[0m \u001b[39m# This is purely for aesthetics and to make it easier to search for this\u001b[39;00m\n\u001b[1;32m    971\u001b[0m \u001b[39m# variable since \"backend\" is used in many comments and log/error messages.\u001b[39;00m\n\u001b[1;32m    972\u001b[0m backend_name \u001b[39m=\u001b[39m backend\n",
      "File \u001b[0;32m~/.pyenv/versions/3.11.6/lib/python3.11/site-packages/networkx/algorithms/shortest_paths/weighted.py:389\u001b[0m, in \u001b[0;36msingle_source_dijkstra_path_length\u001b[0;34m(G, source, cutoff, weight)\u001b[0m\n\u001b[1;32m    320\u001b[0m \u001b[39m@nx\u001b[39m\u001b[39m.\u001b[39m_dispatchable(edge_attrs\u001b[39m=\u001b[39m\u001b[39m\"\u001b[39m\u001b[39mweight\u001b[39m\u001b[39m\"\u001b[39m)\n\u001b[1;32m    321\u001b[0m \u001b[39mdef\u001b[39;00m \u001b[39msingle_source_dijkstra_path_length\u001b[39m(G, source, cutoff\u001b[39m=\u001b[39m\u001b[39mNone\u001b[39;00m, weight\u001b[39m=\u001b[39m\u001b[39m\"\u001b[39m\u001b[39mweight\u001b[39m\u001b[39m\"\u001b[39m):\n\u001b[1;32m    322\u001b[0m \u001b[39m    \u001b[39m\u001b[39m\"\"\"Find shortest weighted path lengths in G from a source node.\u001b[39;00m\n\u001b[1;32m    323\u001b[0m \n\u001b[1;32m    324\u001b[0m \u001b[39m    Compute the shortest path length between source and all other\u001b[39;00m\n\u001b[0;32m   (...)\u001b[0m\n\u001b[1;32m    387\u001b[0m \n\u001b[1;32m    388\u001b[0m \u001b[39m    \"\"\"\u001b[39;00m\n\u001b[0;32m--> 389\u001b[0m     \u001b[39mreturn\u001b[39;00m multi_source_dijkstra_path_length(G, {source}, cutoff\u001b[39m=\u001b[39;49mcutoff, weight\u001b[39m=\u001b[39;49mweight)\n",
      "File \u001b[0;32m<class 'networkx.utils.decorators.argmap'> compilation 38:3\u001b[0m, in \u001b[0;36margmap_multi_source_dijkstra_path_length_35\u001b[0;34m(G, sources, cutoff, weight, backend, **backend_kwargs)\u001b[0m\n\u001b[1;32m      1\u001b[0m \u001b[39mimport\u001b[39;00m \u001b[39mbz2\u001b[39;00m\n\u001b[1;32m      2\u001b[0m \u001b[39mimport\u001b[39;00m \u001b[39mcollections\u001b[39;00m\n\u001b[0;32m----> 3\u001b[0m \u001b[39mimport\u001b[39;00m \u001b[39mgzip\u001b[39;00m\n\u001b[1;32m      4\u001b[0m \u001b[39mimport\u001b[39;00m \u001b[39minspect\u001b[39;00m\n\u001b[1;32m      5\u001b[0m \u001b[39mimport\u001b[39;00m \u001b[39mitertools\u001b[39;00m\n",
      "File \u001b[0;32m~/.pyenv/versions/3.11.6/lib/python3.11/site-packages/networkx/utils/backends.py:967\u001b[0m, in \u001b[0;36m_dispatchable.__call__\u001b[0;34m(self, backend, *args, **kwargs)\u001b[0m\n\u001b[1;32m    965\u001b[0m     \u001b[39mif\u001b[39;00m backend \u001b[39mis\u001b[39;00m \u001b[39mnot\u001b[39;00m \u001b[39mNone\u001b[39;00m \u001b[39mand\u001b[39;00m backend \u001b[39m!=\u001b[39m \u001b[39m\"\u001b[39m\u001b[39mnetworkx\u001b[39m\u001b[39m\"\u001b[39m:\n\u001b[1;32m    966\u001b[0m         \u001b[39mraise\u001b[39;00m \u001b[39mImportError\u001b[39;00m(\u001b[39mf\u001b[39m\u001b[39m\"\u001b[39m\u001b[39m'\u001b[39m\u001b[39m{\u001b[39;00mbackend\u001b[39m}\u001b[39;00m\u001b[39m'\u001b[39m\u001b[39m backend is not installed\u001b[39m\u001b[39m\"\u001b[39m)\n\u001b[0;32m--> 967\u001b[0m     \u001b[39mreturn\u001b[39;00m \u001b[39mself\u001b[39;49m\u001b[39m.\u001b[39;49morig_func(\u001b[39m*\u001b[39;49margs, \u001b[39m*\u001b[39;49m\u001b[39m*\u001b[39;49mkwargs)\n\u001b[1;32m    969\u001b[0m \u001b[39m# Use `backend_name` in this function instead of `backend`.\u001b[39;00m\n\u001b[1;32m    970\u001b[0m \u001b[39m# This is purely for aesthetics and to make it easier to search for this\u001b[39;00m\n\u001b[1;32m    971\u001b[0m \u001b[39m# variable since \"backend\" is used in many comments and log/error messages.\u001b[39;00m\n\u001b[1;32m    972\u001b[0m backend_name \u001b[39m=\u001b[39m backend\n",
      "File \u001b[0;32m~/.pyenv/versions/3.11.6/lib/python3.11/site-packages/networkx/algorithms/shortest_paths/weighted.py:647\u001b[0m, in \u001b[0;36mmulti_source_dijkstra_path_length\u001b[0;34m(G, sources, cutoff, weight)\u001b[0m\n\u001b[1;32m    645\u001b[0m         \u001b[39mraise\u001b[39;00m nx\u001b[39m.\u001b[39mNodeNotFound(\u001b[39mf\u001b[39m\u001b[39m\"\u001b[39m\u001b[39mNode \u001b[39m\u001b[39m{\u001b[39;00ms\u001b[39m}\u001b[39;00m\u001b[39m not found in graph\u001b[39m\u001b[39m\"\u001b[39m)\n\u001b[1;32m    646\u001b[0m weight \u001b[39m=\u001b[39m _weight_function(G, weight)\n\u001b[0;32m--> 647\u001b[0m \u001b[39mreturn\u001b[39;00m _dijkstra_multisource(G, sources, weight, cutoff\u001b[39m=\u001b[39;49mcutoff)\n",
      "File \u001b[0;32m~/.pyenv/versions/3.11.6/lib/python3.11/site-packages/networkx/algorithms/shortest_paths/weighted.py:858\u001b[0m, in \u001b[0;36m_dijkstra_multisource\u001b[0;34m(G, sources, weight, pred, paths, cutoff, target)\u001b[0m\n\u001b[1;32m    856\u001b[0m     \u001b[39mbreak\u001b[39;00m\n\u001b[1;32m    857\u001b[0m \u001b[39mfor\u001b[39;00m u, e \u001b[39min\u001b[39;00m G_succ[v]\u001b[39m.\u001b[39mitems():\n\u001b[0;32m--> 858\u001b[0m     cost \u001b[39m=\u001b[39m weight(v, u, e)\n\u001b[1;32m    859\u001b[0m     \u001b[39mif\u001b[39;00m cost \u001b[39mis\u001b[39;00m \u001b[39mNone\u001b[39;00m:\n\u001b[1;32m    860\u001b[0m         \u001b[39mcontinue\u001b[39;00m\n",
      "File \u001b[0;32m~/.pyenv/versions/3.11.6/lib/python3.11/site-packages/networkx/algorithms/shortest_paths/weighted.py:77\u001b[0m, in \u001b[0;36m_weight_function.<locals>.<lambda>\u001b[0;34m(u, v, d)\u001b[0m\n\u001b[1;32m     73\u001b[0m \u001b[39m# If the weight keyword argument is not callable, we assume it is a\u001b[39;00m\n\u001b[1;32m     74\u001b[0m \u001b[39m# string representing the edge attribute containing the weight of\u001b[39;00m\n\u001b[1;32m     75\u001b[0m \u001b[39m# the edge.\u001b[39;00m\n\u001b[1;32m     76\u001b[0m \u001b[39mif\u001b[39;00m G\u001b[39m.\u001b[39mis_multigraph():\n\u001b[0;32m---> 77\u001b[0m     \u001b[39mreturn\u001b[39;00m \u001b[39mlambda\u001b[39;00m u, v, d: \u001b[39mmin\u001b[39m(attr\u001b[39m.\u001b[39mget(weight, \u001b[39m1\u001b[39m) \u001b[39mfor\u001b[39;00m attr \u001b[39min\u001b[39;00m d\u001b[39m.\u001b[39mvalues())\n\u001b[1;32m     78\u001b[0m \u001b[39mreturn\u001b[39;00m \u001b[39mlambda\u001b[39;00m u, v, data: data\u001b[39m.\u001b[39mget(weight, \u001b[39m1\u001b[39m)\n",
      "\u001b[0;31mKeyboardInterrupt\u001b[0m: "
     ]
    }
   ],
   "source": [
    "closeness_centrality = nx.closeness_centrality(G_undirected, distance='length')\n",
    "\n",
    "# Useful for identifying the most accessible locations ,helps planners find where to place services like emergency stations..... \n",
    "# How close it is to all other intersections, based on the shortest path distances in the network."
   ]
  },
  {
   "cell_type": "code",
   "execution_count": null,
   "metadata": {},
   "outputs": [],
   "source": [
    "closeness_centrality_amman = nx.closeness_centrality(G_undirected_amman, distance='length')\n"
   ]
  },
  {
   "cell_type": "code",
   "execution_count": null,
   "metadata": {},
   "outputs": [],
   "source": [
    "betweenness_centrality = nx.betweenness_centrality(G_undirected, weight='length', normalized=True)"
   ]
  },
  {
   "cell_type": "code",
   "execution_count": null,
   "metadata": {},
   "outputs": [],
   "source": [
    "betweenness_centrality_amman = nx.betweenness_centrality(G_undirected_amman, weight='length', normalized=True, k=1000)"
   ]
  },
  {
   "cell_type": "code",
   "execution_count": null,
   "metadata": {},
   "outputs": [],
   "source": [
    "# Step 4: Assign attributes\n",
    "nx.set_node_attributes(G_undirected, degree_centrality, 'degree_centrality')\n",
    "\n"
   ]
  },
  {
   "cell_type": "code",
   "execution_count": null,
   "metadata": {},
   "outputs": [],
   "source": [
    "nx.set_node_attributes(G_undirected_amman, degree_centrality_amman, 'degree_centrality')\n",
    "\n"
   ]
  },
  {
   "cell_type": "code",
   "execution_count": null,
   "metadata": {},
   "outputs": [],
   "source": [
    "nx.set_node_attributes(G_undirected, closeness_centrality, 'closeness_centrality')\n"
   ]
  },
  {
   "cell_type": "code",
   "execution_count": null,
   "metadata": {},
   "outputs": [],
   "source": [
    "nx.set_node_attributes(G_undirected_amman, closeness_centrality_amman, 'closeness_centrality')\n"
   ]
  },
  {
   "cell_type": "code",
   "execution_count": null,
   "metadata": {},
   "outputs": [],
   "source": [
    "nx.set_node_attributes(G_undirected, betweenness_centrality, 'betweenness_centrality', k=1000, normalized=True)"
   ]
  },
  {
   "cell_type": "code",
   "execution_count": null,
   "metadata": {},
   "outputs": [],
   "source": [
    "nx.set_node_attributes(G_undirected_amman, betweenness_centrality_amman, 'betweenness_centrality', k=1000, normalized=True)"
   ]
  },
  {
   "cell_type": "code",
   "execution_count": null,
   "metadata": {},
   "outputs": [],
   "source": [
    "\n",
    "# Step 5: Visualize betweenness\n",
    "nc = ox.plot.get_node_colors_by_attr(G_undirected, attr='betweenness_centrality', cmap='plasma')\n"
   ]
  },
  {
   "cell_type": "code",
   "execution_count": null,
   "metadata": {},
   "outputs": [],
   "source": [
    "nc = ox.plot.get_node_colors_by_attr(G_undirected_amman, attr='betweenness_centrality', cmap='plasma')\n"
   ]
  },
  {
   "cell_type": "code",
   "execution_count": null,
   "metadata": {},
   "outputs": [],
   "source": [
    "fig, ax = ox.plot_graph(G_undirected, node_color=nc, node_size=10, edge_linewidth=0.5, bgcolor='white')\n"
   ]
  },
  {
   "cell_type": "code",
   "execution_count": null,
   "metadata": {},
   "outputs": [],
   "source": [
    "\n",
    "# Step 6: Export results (NEW API)\n",
    "nodes, edges = ox.graph_to_gdfs(G_undirected)\n",
    "nodes.to_csv(\"jordan_nodes_centrality.csv\")\n",
    "edges.to_csv(\"jordan_edges.csv\")\n",
    "nodes.to_file(\"jordan_nodes_centrality.shp\")\n",
    "edges.to_file(\"jordan_edges.shp\")\n"
   ]
  },
  {
   "cell_type": "code",
   "execution_count": null,
   "metadata": {},
   "outputs": [],
   "source": [
    "\n",
    "# Step 7: Print top 5 by betweenness\n",
    "top_btwn = sorted(betweenness_centrality.items(), key=lambda x: x[1], reverse=True)[:5]\n",
    "for node, score in top_btwn:\n",
    "    print(f\"Node {node}: Betweenness = {score}, Lat = {G_undirected.nodes[node]['y']}, Lon = {G_undirected.nodes[node]['x']}\")"
   ]
  },
  {
   "cell_type": "code",
   "execution_count": null,
   "metadata": {},
   "outputs": [],
   "source": []
  },
  {
   "cell_type": "code",
   "execution_count": null,
   "metadata": {},
   "outputs": [],
   "source": []
  }
 ],
 "metadata": {
  "kernelspec": {
   "display_name": "Python 3 (ipykernel)",
   "language": "python",
   "name": "python3"
  },
  "language_info": {
   "codemirror_mode": {
    "name": "ipython",
    "version": 3
   },
   "file_extension": ".py",
   "mimetype": "text/x-python",
   "name": "python",
   "nbconvert_exporter": "python",
   "pygments_lexer": "ipython3",
   "version": "3.12.9"
  }
 },
 "nbformat": 4,
 "nbformat_minor": 4
}
